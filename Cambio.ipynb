{
  "nbformat": 4,
  "nbformat_minor": 0,
  "metadata": {
    "colab": {
      "provenance": [],
      "authorship_tag": "ABX9TyMFtZBJKyoAzuUuf4euckwB",
      "include_colab_link": true
    },
    "kernelspec": {
      "name": "python3",
      "display_name": "Python 3"
    },
    "language_info": {
      "name": "python"
    }
  },
  "cells": [
    {
      "cell_type": "markdown",
      "metadata": {
        "id": "view-in-github",
        "colab_type": "text"
      },
      "source": [
        "<a href=\"https://colab.research.google.com/github/BrunoBertolinoSC/teste/blob/main/Cambio.ipynb\" target=\"_parent\"><img src=\"https://colab.research.google.com/assets/colab-badge.svg\" alt=\"Open In Colab\"/></a>"
      ]
    },
    {
      "cell_type": "code",
      "execution_count": 51,
      "metadata": {
        "id": "EBnqo1Fxuo3N"
      },
      "outputs": [],
      "source": [
        "import requests\n",
        "import json\n",
        "import openpyxl\n",
        "from openpyxl import load_workbook\n",
        "import requests\n",
        "from datetime import datetime, timedelta"
      ]
    },
    {
      "cell_type": "code",
      "source": [
        "from google.colab import drive\n",
        "\n",
        "drive.mount('/content/gdrive')"
      ],
      "metadata": {
        "colab": {
          "base_uri": "https://localhost:8080/"
        },
        "id": "RL9aQMpwvYoQ",
        "outputId": "c18b7c20-1e72-4479-9396-9f1c7c3bf20c"
      },
      "execution_count": 52,
      "outputs": [
        {
          "output_type": "stream",
          "name": "stdout",
          "text": [
            "Drive already mounted at /content/gdrive; to attempt to forcibly remount, call drive.mount(\"/content/gdrive\", force_remount=True).\n"
          ]
        }
      ]
    },
    {
      "cell_type": "code",
      "source": [
        "planilha = load_workbook(filename = '/content/gdrive/MyDrive/Processo Seletivo/Faturamento_original.xlsx')"
      ],
      "metadata": {
        "id": "aWcrupwRv9wF"
      },
      "execution_count": 61,
      "outputs": []
    },
    {
      "cell_type": "code",
      "source": [
        "def get_historical_exchange_rate(date_str, currency):\n",
        "\n",
        "    try:\n",
        "        # Formatar a data e verificar se é um dia útil\n",
        "        date_obj = datetime.strptime(date_str, '%Y-%m-%d').date()\n",
        "        while date_obj.weekday() > 4:  # Ajustar para dias úteis (segunda a sexta)\n",
        "            date_obj -= timedelta(days=1)\n",
        "\n",
        "        formatted_date = date_obj.strftime('%Y%m%d')  # API exige o formato 'YYYYMMDD'\n",
        "\n",
        "        # Fazer a requisição para a API\n",
        "        url = f'https://economia.awesomeapi.com.br/json/daily/{currency}-BRL?start_date={formatted_date}&end_date={formatted_date}'\n",
        "        response = requests.get(url)\n",
        "        response.raise_for_status()  # Verifica se houve erro na requisição\n",
        "\n",
        "        # Analisar a resposta\n",
        "        data = response.json()\n",
        "        if data:\n",
        "            return float(data[0]['bid'])  # 'bid' é a cotação de compra\n",
        "        return None\n",
        "\n",
        "    except Exception as e:\n",
        "        print(f\"Erro ao buscar a cotação de {currency} para {date_str}: {e}\")\n",
        "        return None"
      ],
      "metadata": {
        "id": "BGLSEVg3fCI5"
      },
      "execution_count": 62,
      "outputs": []
    },
    {
      "cell_type": "code",
      "source": [
        "def transforma_data(data_str):\n",
        "\n",
        "    try:\n",
        "        # Converte a string para um objeto datetime\n",
        "        data_obj = datetime.strptime(data_str, \"%d/%m/%Y\")\n",
        "\n",
        "        # Retorna a data formatada como yyyy-mm-dd\n",
        "        return data_obj.strftime(\"%Y-%m-%d\")\n",
        "    except ValueError as e:\n",
        "        print(f\"Erro ao converter a data: {e}\")\n",
        "        return None\n"
      ],
      "metadata": {
        "id": "zWq-whaZffg-"
      },
      "execution_count": 63,
      "outputs": []
    },
    {
      "cell_type": "code",
      "source": [
        "\n",
        "g = planilha['Página1']\n",
        "\n",
        "\n",
        "\n",
        "last_column = g.max_column\n",
        "\n",
        "\n",
        "next_column = last_column + 1\n",
        "\n",
        "if g.cell(row=1, column=next_column).value is None:\n",
        "  g.cell(row=1, column=next_column, value='Dolar')\n",
        "  g.cell(row=1, column=next_column + 1, value='Euro')\n",
        "  g.cell(row=1, column=next_column + 2, value='Faturamento em Dolar')\n",
        "  g.cell(row=1, column=next_column + 3, value='Faturamento em Euro')\n",
        "\n",
        "\n",
        "g.cell(row=2, column=next_column, value=get_historical_exchange_rate(transforma_data(str(g.cell(row=2, column= 1))), 'USD'))\n",
        "g.cell(row=2, column=next_column + 1, value=get_historical_exchange_rate(transforma_data(str(g.cell(row=2, column= 1))), 'EUR'))\n",
        "#g.cell(row=2, column=next_column + 2, value=((g.cell(row=2, column= 5)).value/get_historical_exchange_rate(transforma_data(str(g.cell(row=2, column= 1).value)), 'USD')))\n",
        "#g.cell(row=2, column=next_column + 3, value=((g.cell(row=2, column= 5)).value/get_historical_exchange_rate(transforma_data(str(g.cell(row=2, column= 1).value)), 'EUR')))\n",
        "\n"
      ],
      "metadata": {
        "colab": {
          "base_uri": "https://localhost:8080/"
        },
        "id": "jQ36PbTXBmqJ",
        "outputId": "09081bd1-c1de-4989-e395-b32dd94eb6aa"
      },
      "execution_count": 69,
      "outputs": [
        {
          "output_type": "stream",
          "name": "stdout",
          "text": [
            "Erro ao converter a data: time data \"<Cell 'Página1'.A2>\" does not match format '%d/%m/%Y'\n",
            "Erro ao buscar a cotação de USD para None: strptime() argument 1 must be str, not None\n",
            "Erro ao converter a data: time data \"<Cell 'Página1'.A2>\" does not match format '%d/%m/%Y'\n",
            "Erro ao buscar a cotação de EUR para None: strptime() argument 1 must be str, not None\n"
          ]
        },
        {
          "output_type": "execute_result",
          "data": {
            "text/plain": [
              "<Cell 'Página1'.V2>"
            ]
          },
          "metadata": {},
          "execution_count": 69
        }
      ]
    },
    {
      "cell_type": "code",
      "source": [
        "planilha.save(filename = '/content/gdrive/MyDrive/Processo Seletivo/Faturamento_original.xlsx')"
      ],
      "metadata": {
        "id": "aDW4C2at4W-B"
      },
      "execution_count": 70,
      "outputs": []
    }
  ]
}